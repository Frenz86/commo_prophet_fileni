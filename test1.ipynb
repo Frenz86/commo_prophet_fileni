{
  "nbformat": 4,
  "nbformat_minor": 0,
  "metadata": {
    "colab": {
      "name": "test1.ipynb",
      "provenance": [],
      "collapsed_sections": []
    },
    "kernelspec": {
      "name": "python3",
      "display_name": "Python 3",
      "language": "python"
    }
  },
  "cells": [
    {
      "cell_type": "code",
      "metadata": {
        "colab": {
          "base_uri": "https://localhost:8080/"
        },
        "id": "AQdPcg88Iiqa",
        "outputId": "2250cf87-8718-4cce-d04d-3450d634e2cc"
      },
      "source": [
        "print('sono cotto, abbi pietà!!')"
      ],
      "execution_count": null,
      "outputs": [
        {
          "output_type": "stream",
          "text": [
            "sono cotto, abbi pietà!!\n"
          ],
          "name": "stdout"
        }
      ]
    },
    {
      "cell_type": "code",
      "metadata": {
        "id": "8wBesH9gInzP",
        "colab": {
          "base_uri": "https://localhost:8080/",
          "height": 171
        },
        "outputId": "ed3bf923-a83e-43fc-c54d-8a9f0555beac"
      },
      "source": [
        "raw_data = {'name': ['Willard Morris', 'Al Jennings', 'Omar Mullins', 'Spencer McDaniel'],\r\n",
        "'age': [20, 19, 22, 21],\r\n",
        "'favorite_color': ['blue', 'blue', 'yellow', \"green\"],\r\n",
        "'grade': [88, 92, 95, 70]}\r\n",
        "\r\n",
        "df = pd.DataFrame(raw_data)\r\n",
        "df.head()"
      ],
      "execution_count": 16,
      "outputs": [
        {
          "output_type": "execute_result",
          "data": {
            "text/html": [
              "<div>\n",
              "<style scoped>\n",
              "    .dataframe tbody tr th:only-of-type {\n",
              "        vertical-align: middle;\n",
              "    }\n",
              "\n",
              "    .dataframe tbody tr th {\n",
              "        vertical-align: top;\n",
              "    }\n",
              "\n",
              "    .dataframe thead th {\n",
              "        text-align: right;\n",
              "    }\n",
              "</style>\n",
              "<table border=\"1\" class=\"dataframe\">\n",
              "  <thead>\n",
              "    <tr style=\"text-align: right;\">\n",
              "      <th></th>\n",
              "      <th>name</th>\n",
              "      <th>age</th>\n",
              "      <th>favorite_color</th>\n",
              "      <th>grade</th>\n",
              "    </tr>\n",
              "  </thead>\n",
              "  <tbody>\n",
              "    <tr>\n",
              "      <th>0</th>\n",
              "      <td>Willard Morris</td>\n",
              "      <td>20</td>\n",
              "      <td>blue</td>\n",
              "      <td>88</td>\n",
              "    </tr>\n",
              "    <tr>\n",
              "      <th>1</th>\n",
              "      <td>Al Jennings</td>\n",
              "      <td>19</td>\n",
              "      <td>blue</td>\n",
              "      <td>92</td>\n",
              "    </tr>\n",
              "    <tr>\n",
              "      <th>2</th>\n",
              "      <td>Omar Mullins</td>\n",
              "      <td>22</td>\n",
              "      <td>yellow</td>\n",
              "      <td>95</td>\n",
              "    </tr>\n",
              "    <tr>\n",
              "      <th>3</th>\n",
              "      <td>Spencer McDaniel</td>\n",
              "      <td>21</td>\n",
              "      <td>green</td>\n",
              "      <td>70</td>\n",
              "    </tr>\n",
              "  </tbody>\n",
              "</table>\n",
              "</div>"
            ],
            "text/plain": [
              "               name  age favorite_color  grade\n",
              "0    Willard Morris   20           blue     88\n",
              "1       Al Jennings   19           blue     92\n",
              "2      Omar Mullins   22         yellow     95\n",
              "3  Spencer McDaniel   21          green     70"
            ]
          },
          "metadata": {
            "tags": []
          },
          "execution_count": 16
        }
      ]
    },
    {
      "cell_type": "code",
      "metadata": {
        "colab": {
          "base_uri": "https://localhost:8080/",
          "height": 79
        },
        "id": "S41YEE9xav-N",
        "outputId": "1f054de2-d855-4117-fe5a-9c0e718af3b8"
      },
      "source": [
        "#To select rows whose column value equals a scalar, some_value, use ==:\r\n",
        "a = df.loc[df['grade'] == 70]\r\n",
        "a"
      ],
      "execution_count": 27,
      "outputs": [
        {
          "output_type": "execute_result",
          "data": {
            "text/html": [
              "<div>\n",
              "<style scoped>\n",
              "    .dataframe tbody tr th:only-of-type {\n",
              "        vertical-align: middle;\n",
              "    }\n",
              "\n",
              "    .dataframe tbody tr th {\n",
              "        vertical-align: top;\n",
              "    }\n",
              "\n",
              "    .dataframe thead th {\n",
              "        text-align: right;\n",
              "    }\n",
              "</style>\n",
              "<table border=\"1\" class=\"dataframe\">\n",
              "  <thead>\n",
              "    <tr style=\"text-align: right;\">\n",
              "      <th></th>\n",
              "      <th>name</th>\n",
              "      <th>age</th>\n",
              "      <th>favorite_color</th>\n",
              "      <th>grade</th>\n",
              "    </tr>\n",
              "  </thead>\n",
              "  <tbody>\n",
              "    <tr>\n",
              "      <th>3</th>\n",
              "      <td>Spencer McDaniel</td>\n",
              "      <td>21</td>\n",
              "      <td>green</td>\n",
              "      <td>70</td>\n",
              "    </tr>\n",
              "  </tbody>\n",
              "</table>\n",
              "</div>"
            ],
            "text/plain": [
              "               name  age favorite_color  grade\n",
              "3  Spencer McDaniel   21          green     70"
            ]
          },
          "metadata": {
            "tags": []
          },
          "execution_count": 27
        }
      ]
    },
    {
      "cell_type": "code",
      "metadata": {
        "colab": {
          "base_uri": "https://localhost:8080/"
        },
        "id": "lzu5poZTcZm2",
        "outputId": "9bb79f4d-8b94-44cc-ff67-1c67de7883ae"
      },
      "source": [
        "a.index[0]"
      ],
      "execution_count": 26,
      "outputs": [
        {
          "output_type": "execute_result",
          "data": {
            "text/plain": [
              "3"
            ]
          },
          "metadata": {
            "tags": []
          },
          "execution_count": 26
        }
      ]
    },
    {
      "cell_type": "code",
      "metadata": {
        "colab": {
          "base_uri": "https://localhost:8080/",
          "height": 728
        },
        "id": "boI0MervedEg",
        "outputId": "bf1df7fd-0b7e-44b7-b4a4-69602b9469e4"
      },
      "source": [
        "!pip install investpy"
      ],
      "execution_count": 1,
      "outputs": [
        {
          "output_type": "stream",
          "name": "stdout",
          "text": [
            "/bin/bash: pip: command not found\n"
          ]
        }
      ]
    },
    {
      "cell_type": "code",
      "metadata": {
        "colab": {
          "base_uri": "https://localhost:8080/",
          "height": 446
        },
        "id": "jmvJ9TD4ctzf",
        "outputId": "b65efc18-ad1b-48cc-ac42-8f7c56dfc8dd"
      },
      "source": [
        "import investpy \n",
        "from datetime import datetime,date\n",
        "import pandas as pd\n",
        "\n",
        "today= date.today().strftime('%d/%m/%Y')\n",
        "\n",
        "\n",
        "data2 = investpy.get_commodity_historical_data(commodity='US Coffee C', \n",
        "                                                from_date='01/01/1980', \n",
        "                                                to_date=today,\n",
        "                                                as_json=False,\n",
        "                                                order='ascending')\n",
        "data2"
      ],
      "execution_count": 21,
      "outputs": [
        {
          "output_type": "execute_result",
          "data": {
            "text/plain": [
              "              Open    High     Low   Close  Volume Currency\n",
              "Date                                                       \n",
              "1980-01-02  182.10  182.25  176.00  177.58    1143      USD\n",
              "1980-01-03  176.50  176.50  170.50  171.50    1440      USD\n",
              "1980-01-04  173.37  178.25  173.25  176.16    1292      USD\n",
              "1980-01-07  175.42  179.00  175.00  178.58    1016      USD\n",
              "1980-01-08  180.30  183.40  179.00  180.57    1247      USD\n",
              "...            ...     ...     ...     ...     ...      ...\n",
              "2021-02-03  123.10  124.85  122.70  123.95   14367      USD\n",
              "2021-02-04  124.50  124.70  120.20  124.05   32468      USD\n",
              "2021-02-05  124.65  125.85  123.80  124.50   25376      USD\n",
              "2021-02-08  124.20  124.80  123.30  124.10   24446      USD\n",
              "2021-02-09  123.90  123.92  123.55  123.88       0      USD\n",
              "\n",
              "[10368 rows x 6 columns]"
            ],
            "text/html": "<div>\n<style scoped>\n    .dataframe tbody tr th:only-of-type {\n        vertical-align: middle;\n    }\n\n    .dataframe tbody tr th {\n        vertical-align: top;\n    }\n\n    .dataframe thead th {\n        text-align: right;\n    }\n</style>\n<table border=\"1\" class=\"dataframe\">\n  <thead>\n    <tr style=\"text-align: right;\">\n      <th></th>\n      <th>Open</th>\n      <th>High</th>\n      <th>Low</th>\n      <th>Close</th>\n      <th>Volume</th>\n      <th>Currency</th>\n    </tr>\n    <tr>\n      <th>Date</th>\n      <th></th>\n      <th></th>\n      <th></th>\n      <th></th>\n      <th></th>\n      <th></th>\n    </tr>\n  </thead>\n  <tbody>\n    <tr>\n      <th>1980-01-02</th>\n      <td>182.10</td>\n      <td>182.25</td>\n      <td>176.00</td>\n      <td>177.58</td>\n      <td>1143</td>\n      <td>USD</td>\n    </tr>\n    <tr>\n      <th>1980-01-03</th>\n      <td>176.50</td>\n      <td>176.50</td>\n      <td>170.50</td>\n      <td>171.50</td>\n      <td>1440</td>\n      <td>USD</td>\n    </tr>\n    <tr>\n      <th>1980-01-04</th>\n      <td>173.37</td>\n      <td>178.25</td>\n      <td>173.25</td>\n      <td>176.16</td>\n      <td>1292</td>\n      <td>USD</td>\n    </tr>\n    <tr>\n      <th>1980-01-07</th>\n      <td>175.42</td>\n      <td>179.00</td>\n      <td>175.00</td>\n      <td>178.58</td>\n      <td>1016</td>\n      <td>USD</td>\n    </tr>\n    <tr>\n      <th>1980-01-08</th>\n      <td>180.30</td>\n      <td>183.40</td>\n      <td>179.00</td>\n      <td>180.57</td>\n      <td>1247</td>\n      <td>USD</td>\n    </tr>\n    <tr>\n      <th>...</th>\n      <td>...</td>\n      <td>...</td>\n      <td>...</td>\n      <td>...</td>\n      <td>...</td>\n      <td>...</td>\n    </tr>\n    <tr>\n      <th>2021-02-03</th>\n      <td>123.10</td>\n      <td>124.85</td>\n      <td>122.70</td>\n      <td>123.95</td>\n      <td>14367</td>\n      <td>USD</td>\n    </tr>\n    <tr>\n      <th>2021-02-04</th>\n      <td>124.50</td>\n      <td>124.70</td>\n      <td>120.20</td>\n      <td>124.05</td>\n      <td>32468</td>\n      <td>USD</td>\n    </tr>\n    <tr>\n      <th>2021-02-05</th>\n      <td>124.65</td>\n      <td>125.85</td>\n      <td>123.80</td>\n      <td>124.50</td>\n      <td>25376</td>\n      <td>USD</td>\n    </tr>\n    <tr>\n      <th>2021-02-08</th>\n      <td>124.20</td>\n      <td>124.80</td>\n      <td>123.30</td>\n      <td>124.10</td>\n      <td>24446</td>\n      <td>USD</td>\n    </tr>\n    <tr>\n      <th>2021-02-09</th>\n      <td>123.90</td>\n      <td>123.92</td>\n      <td>123.55</td>\n      <td>123.88</td>\n      <td>0</td>\n      <td>USD</td>\n    </tr>\n  </tbody>\n</table>\n<p>10368 rows × 6 columns</p>\n</div>"
          },
          "metadata": {},
          "execution_count": 21
        }
      ]
    },
    {
      "cell_type": "code",
      "metadata": {
        "colab": {
          "base_uri": "https://localhost:8080/",
          "height": 415
        },
        "id": "VfDBKj2TehvR",
        "outputId": "45f01119-5b15-410e-f398-eb1079e78cbc"
      },
      "source": [
        "data2 = (\n",
        "        data2['Close']\n",
        "        .dropna()\n",
        "        .to_frame()\n",
        "        .reset_index()\n",
        "        .rename(columns={\"Date\": \"ds\", 'Close': \"y\"})\n",
        "    )\n",
        "    #st.write(\"# Forecast - Modello Predittivo \" +str(list(COMMODITY.values())[list(COMMODITY.keys()).index(option)]))\n",
        "df_clean = data2.copy()\n",
        "df_clean=df_clean.iloc[-700:]\n",
        "df_clean['ds']=pd.to_datetime(df_clean['ds'])\n",
        "df_clean['ds']=df_clean['ds'].dt.date\n",
        "df_clean"
      ],
      "execution_count": 22,
      "outputs": [
        {
          "output_type": "execute_result",
          "data": {
            "text/plain": [
              "               ds       y\n",
              "9668   2018-05-02  121.60\n",
              "9669   2018-05-03  122.20\n",
              "9670   2018-05-04  120.45\n",
              "9671   2018-05-07  118.20\n",
              "9672   2018-05-08  116.55\n",
              "...           ...     ...\n",
              "10363  2021-02-03  123.95\n",
              "10364  2021-02-04  124.05\n",
              "10365  2021-02-05  124.50\n",
              "10366  2021-02-08  124.10\n",
              "10367  2021-02-09  123.88\n",
              "\n",
              "[700 rows x 2 columns]"
            ],
            "text/html": "<div>\n<style scoped>\n    .dataframe tbody tr th:only-of-type {\n        vertical-align: middle;\n    }\n\n    .dataframe tbody tr th {\n        vertical-align: top;\n    }\n\n    .dataframe thead th {\n        text-align: right;\n    }\n</style>\n<table border=\"1\" class=\"dataframe\">\n  <thead>\n    <tr style=\"text-align: right;\">\n      <th></th>\n      <th>ds</th>\n      <th>y</th>\n    </tr>\n  </thead>\n  <tbody>\n    <tr>\n      <th>9668</th>\n      <td>2018-05-02</td>\n      <td>121.60</td>\n    </tr>\n    <tr>\n      <th>9669</th>\n      <td>2018-05-03</td>\n      <td>122.20</td>\n    </tr>\n    <tr>\n      <th>9670</th>\n      <td>2018-05-04</td>\n      <td>120.45</td>\n    </tr>\n    <tr>\n      <th>9671</th>\n      <td>2018-05-07</td>\n      <td>118.20</td>\n    </tr>\n    <tr>\n      <th>9672</th>\n      <td>2018-05-08</td>\n      <td>116.55</td>\n    </tr>\n    <tr>\n      <th>...</th>\n      <td>...</td>\n      <td>...</td>\n    </tr>\n    <tr>\n      <th>10363</th>\n      <td>2021-02-03</td>\n      <td>123.95</td>\n    </tr>\n    <tr>\n      <th>10364</th>\n      <td>2021-02-04</td>\n      <td>124.05</td>\n    </tr>\n    <tr>\n      <th>10365</th>\n      <td>2021-02-05</td>\n      <td>124.50</td>\n    </tr>\n    <tr>\n      <th>10366</th>\n      <td>2021-02-08</td>\n      <td>124.10</td>\n    </tr>\n    <tr>\n      <th>10367</th>\n      <td>2021-02-09</td>\n      <td>123.88</td>\n    </tr>\n  </tbody>\n</table>\n<p>700 rows × 2 columns</p>\n</div>"
          },
          "metadata": {},
          "execution_count": 22
        }
      ]
    },
    {
      "cell_type": "code",
      "execution_count": 23,
      "metadata": {},
      "outputs": [
        {
          "output_type": "execute_result",
          "data": {
            "text/plain": [
              "ds    0\n",
              "y     0\n",
              "dtype: int64"
            ]
          },
          "metadata": {},
          "execution_count": 23
        }
      ],
      "source": [
        "df_clean.isnull().sum()"
      ]
    },
    {
      "cell_type": "code",
      "metadata": {
        "colab": {
          "base_uri": "https://localhost:8080/"
        },
        "id": "9J1fG_qxga7U",
        "outputId": "af7452b6-aca5-4dcf-8bf2-17819fe7244f"
      },
      "source": [
        "df_clean.dtypes"
      ],
      "execution_count": 24,
      "outputs": [
        {
          "output_type": "execute_result",
          "data": {
            "text/plain": [
              "ds     object\n",
              "y     float64\n",
              "dtype: object"
            ]
          },
          "metadata": {},
          "execution_count": 24
        }
      ]
    },
    {
      "cell_type": "code",
      "metadata": {
        "colab": {
          "base_uri": "https://localhost:8080/"
        },
        "id": "dUi9Bd-MfIrD",
        "outputId": "13acf0d5-aac5-48ac-da0d-fa036623ac1f"
      },
      "source": [
        "index_start = df_clean.loc[df_clean['ds'].astype(str) == '2020-01-18']\n",
        "#index_start = index_start.index[0]\n",
        "index_start"
      ],
      "execution_count": 28,
      "outputs": [
        {
          "output_type": "execute_result",
          "data": {
            "text/plain": [
              "Empty DataFrame\n",
              "Columns: [ds, y]\n",
              "Index: []"
            ],
            "text/html": "<div>\n<style scoped>\n    .dataframe tbody tr th:only-of-type {\n        vertical-align: middle;\n    }\n\n    .dataframe tbody tr th {\n        vertical-align: top;\n    }\n\n    .dataframe thead th {\n        text-align: right;\n    }\n</style>\n<table border=\"1\" class=\"dataframe\">\n  <thead>\n    <tr style=\"text-align: right;\">\n      <th></th>\n      <th>ds</th>\n      <th>y</th>\n    </tr>\n  </thead>\n  <tbody>\n  </tbody>\n</table>\n</div>"
          },
          "metadata": {},
          "execution_count": 28
        }
      ]
    },
    {
      "cell_type": "code",
      "metadata": {
        "colab": {
          "base_uri": "https://localhost:8080/"
        },
        "id": "TTCsFWvTiEpW",
        "outputId": "11463738-1804-47dd-93a0-80ee204b629b"
      },
      "source": [
        "index_finish = df_clean.loc[df_clean['ds'].astype(str) == '2020-08-20']\r\n",
        "index_finish = index_finish.index[0]\r\n",
        "index_finish"
      ],
      "execution_count": 74,
      "outputs": [
        {
          "output_type": "execute_result",
          "data": {
            "text/plain": [
              "10311"
            ]
          },
          "metadata": {
            "tags": []
          },
          "execution_count": 74
        }
      ]
    },
    {
      "cell_type": "code",
      "metadata": {
        "id": "vVGnHzB_gVNI"
      },
      "source": [],
      "execution_count": null,
      "outputs": []
    }
  ]
}